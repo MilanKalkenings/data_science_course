{
 "cells": [
  {
   "cell_type": "markdown",
   "id": "d06b576c",
   "metadata": {
    "papermill": {
     "duration": 0.008692,
     "end_time": "2022-06-27T17:55:35.089937",
     "exception": false,
     "start_time": "2022-06-27T17:55:35.081245",
     "status": "completed"
    },
    "tags": []
   },
   "source": [
    "# python basics\n",
    "This chapter contains a short recap of python basics.\n",
    "python is a programming language that executes code **line by line** starting at the top. \n",
    "everything written being a `#` is a **comment**. comments are not executed and you should use them to explain your code. \n",
    "explaining your code in comments is essential, because it allows your future self and others to understand your programs. "
   ]
  },
  {
   "cell_type": "markdown",
   "id": "0cc6ee4e",
   "metadata": {
    "papermill": {
     "duration": 0.007174,
     "end_time": "2022-06-27T17:55:35.104880",
     "exception": false,
     "start_time": "2022-06-27T17:55:35.097706",
     "status": "completed"
    },
    "tags": []
   },
   "source": [
    "# variables: int, float, char, str\n",
    "variables are used to store a value in the RAM (memory) of your local machine.\n",
    "They assign a name to a value so that you can refer to it later on.\n",
    "\n",
    "every variable has a `type`.\n",
    "here are some basic types:\n",
    "- `int`: 0, 500, 1, -1, -2987, 4 (integer)\n",
    "- `float`: 0.1, -34.556, 19998.2, -0.12 (floating point number)\n",
    "- `char`: 'a', 'b', '1', 'ö' (character)\n",
    "- `str`: \"car\", \"23.01.2023\", \"milan kalkenings\", \"12 monkeys\" (string)"
   ]
  },
  {
   "cell_type": "code",
   "execution_count": 1,
   "id": "57065968",
   "metadata": {},
   "outputs": [],
   "source": [
    "age = 24  # int\n",
    "height = 180.5  # height\n",
    "sex = 'm'  # char\n",
    "name = \"milan\"  # str"
   ]
  },
  {
   "cell_type": "markdown",
   "id": "379f0e1c",
   "metadata": {},
   "source": [
    "we can display all kinds of information including variables using `print(a, b, ...)`"
   ]
  },
  {
   "cell_type": "code",
   "execution_count": 2,
   "id": "46a82d41",
   "metadata": {},
   "outputs": [
    {
     "name": "stdout",
     "output_type": "stream",
     "text": [
      "milan 24\n"
     ]
    }
   ],
   "source": [
    "print(name, age)"
   ]
  },
  {
   "cell_type": "markdown",
   "id": "f792e12f",
   "metadata": {},
   "source": [
    "we can change what is stored in a variable. some basic operations:"
   ]
  },
  {
   "cell_type": "code",
   "execution_count": 3,
   "id": "d334c19d",
   "metadata": {},
   "outputs": [
    {
     "name": "stdout",
     "output_type": "stream",
     "text": [
      "int 576\n",
      "float 149.41666666666669\n",
      "str milan kalkenings\n"
     ]
    }
   ],
   "source": [
    "# int\n",
    "age_new = age * age  # we refer to the value that is stored in age \n",
    "print(\"int\", age_new)\n",
    "\n",
    "# float \n",
    "height_new = (height - 1.2) / 1.2  # multiple operations in one line\n",
    "print(\"float\", height_new)\n",
    "\n",
    "# str\n",
    "name_new = name + \" kalkenings\"  # str concatentation\n",
    "print(\"str\", name_new)"
   ]
  },
  {
   "cell_type": "markdown",
   "id": "08a32b5e",
   "metadata": {
    "papermill": {
     "duration": 0.007078,
     "end_time": "2022-06-27T17:55:35.213738",
     "exception": false,
     "start_time": "2022-06-27T17:55:35.206660",
     "status": "completed"
    },
    "tags": []
   },
   "source": [
    "sometimes we have to `cast` variables from one `type` to another. Note that in the upcoming example, the float `0.9` doesn't get rounded to `1` as one might expect but instead gets truncated to `0`."
   ]
  },
  {
   "cell_type": "code",
   "execution_count": 4,
   "id": "adae4ff8",
   "metadata": {
    "execution": {
     "iopub.execute_input": "2022-06-27T17:55:35.231460Z",
     "iopub.status.busy": "2022-06-27T17:55:35.230516Z",
     "iopub.status.idle": "2022-06-27T17:55:35.238373Z",
     "shell.execute_reply": "2022-06-27T17:55:35.237033Z"
    },
    "papermill": {
     "duration": 0.019441,
     "end_time": "2022-06-27T17:55:35.240661",
     "exception": false,
     "start_time": "2022-06-27T17:55:35.221220",
     "status": "completed"
    },
    "tags": []
   },
   "outputs": [
    {
     "name": "stdout",
     "output_type": "stream",
     "text": [
      "cast int to float: 2 to 2.0\n",
      "cast float to int: 0.9 to 0\n"
     ]
    }
   ],
   "source": [
    "some_float = 0.9\n",
    "some_int = 2\n",
    "casted_int = float(some_int)\n",
    "casted_float = int(some_float)\n",
    "print(\"cast int to float:\", some_int, \"to\", casted_int)\n",
    "print(\"cast float to int:\", some_float, \"to\", casted_float)"
   ]
  },
  {
   "cell_type": "markdown",
   "id": "0dde3dc7",
   "metadata": {},
   "source": [
    "## bool, comparisons, conditionals\n",
    "`bool` are memory efficient, because can only contain the values `True` and `False`.\n",
    "we can use them for chaining long logical operations."
   ]
  },
  {
   "cell_type": "code",
   "execution_count": 5,
   "id": "3f6f6365",
   "metadata": {},
   "outputs": [
    {
     "name": "stdout",
     "output_type": "stream",
     "text": [
      "True and False: False\n",
      "True and True: True\n",
      "False and False: False\n",
      "True or False: True\n",
      "True or True: True\n",
      "False or False: False\n"
     ]
    }
   ],
   "source": [
    "student = True\n",
    "worker = True\n",
    "homeless = False\n",
    "cat_owner = False\n",
    "\n",
    "# and: True if both are True\n",
    "print(\"True and False:\", worker and homeless)\n",
    "print(\"True and True:\", worker and student)\n",
    "print(\"False and False:\", homeless and cat_owner)\n",
    "\n",
    "# or: True if at least one is True\n",
    "print(\"True or False:\", worker or homeless)\n",
    "print(\"True or True:\", worker or student)\n",
    "print(\"False or False:\", homeless or cat_owner)"
   ]
  },
  {
   "cell_type": "markdown",
   "id": "5ac7deeb",
   "metadata": {},
   "source": [
    "`comparison`s result in `bool` values:"
   ]
  },
  {
   "cell_type": "code",
   "execution_count": 6,
   "id": "9302d7b4",
   "metadata": {},
   "outputs": [
    {
     "name": "stdout",
     "output_type": "stream",
     "text": [
      "True because 1 equals 2 - 1\n",
      "True because 1 does not equal 2\n",
      "True because 4 is greater than 2\n",
      "False because 2 is not smaller than 1\n"
     ]
    }
   ],
   "source": [
    "print(1 == 2 - 1, \"because 1 equals 2 - 1\")\n",
    "print(1 != 2, \"because 1 does not equal 2\")\n",
    "print(4 > 2, \"because 4 is greater than 2\")\n",
    "print(2 < 1, \"because 2 is not smaller than 1\")"
   ]
  },
  {
   "cell_type": "markdown",
   "id": "ed3b2c4c",
   "metadata": {},
   "source": [
    "`conditional`s use bool values to determine if a certain block of code should be executed or not:"
   ]
  },
  {
   "cell_type": "code",
   "execution_count": 7,
   "id": "06e2cd92",
   "metadata": {},
   "outputs": [
    {
     "name": "stdout",
     "output_type": "stream",
     "text": [
      "3 doesn't equal 1 or 2\n",
      "24 is greater than 18\n"
     ]
    }
   ],
   "source": [
    "age = 24\n",
    "\n",
    "# \"if cascade\" = if followed by elif or else\n",
    "if 3 == 1:\n",
    "    print(\"3 equals 1\")\n",
    "elif 3 == 2:  # elif = else if\n",
    "    print(\"3 equals 2\")\n",
    "else:\n",
    "    print(\"3 doesn't equal 1 or 2\")\n",
    "    \n",
    "    \n",
    "if age > 18:\n",
    "    print(age, \"is greater than 18\")\n",
    "else:\n",
    "    print(age, \"isn't greater than 18\")"
   ]
  },
  {
   "cell_type": "markdown",
   "id": "08c00ebe",
   "metadata": {
    "papermill": {
     "duration": 0.007136,
     "end_time": "2022-06-27T17:55:35.269858",
     "exception": false,
     "start_time": "2022-06-27T17:55:35.262722",
     "status": "completed"
    },
    "tags": []
   },
   "source": [
    "## list, dict\n",
    "`list`s allow us to store multiple variables of arbitrary `type` in one collection."
   ]
  },
  {
   "cell_type": "code",
   "execution_count": 8,
   "id": "bd451eab",
   "metadata": {
    "execution": {
     "iopub.execute_input": "2022-06-27T17:55:35.287387Z",
     "iopub.status.busy": "2022-06-27T17:55:35.286659Z",
     "iopub.status.idle": "2022-06-27T17:55:35.296149Z",
     "shell.execute_reply": "2022-06-27T17:55:35.295029Z"
    },
    "papermill": {
     "duration": 0.021117,
     "end_time": "2022-06-27T17:55:35.298820",
     "exception": false,
     "start_time": "2022-06-27T17:55:35.277703",
     "status": "completed"
    },
    "tags": []
   },
   "outputs": [
    {
     "name": "stdout",
     "output_type": "stream",
     "text": [
      "[-7.23, 234, 'hello', True]\n",
      "first entry: -7.23\n",
      "third entry: hello\n",
      "last entry: True\n",
      "first two entries: [-7.23, 234]\n",
      "middle two entries: [234, 'hello']\n",
      "every second entry: [-7.23, 'hello']\n",
      "list of length: 4\n"
     ]
    }
   ],
   "source": [
    "# create a list\n",
    "some_list = [-7.23, 234, \"hello\"]\n",
    "\n",
    "# append something to a list\n",
    "some_list.append(True)\n",
    "print(some_list)\n",
    "\n",
    "# indexing:\n",
    "print(\"first entry:\", some_list[0])  # starts counting at 0\n",
    "print(\"third entry:\", some_list[2])\n",
    "print(\"last entry:\", some_list[-1])\n",
    "\n",
    "# slicing:\n",
    "print(\"first two entries:\", some_list[:2])\n",
    "print(\"middle two entries:\", some_list[1:3])\n",
    "print(\"every second entry:\", some_list[0:-1:2])\n",
    "\n",
    "# get the amount of values in a list:\n",
    "print(\"list of length:\", len(some_list))"
   ]
  },
  {
   "cell_type": "code",
   "execution_count": 9,
   "id": "6cfaa5e8",
   "metadata": {
    "execution": {
     "iopub.execute_input": "2022-06-27T17:55:35.326688Z",
     "iopub.status.busy": "2022-06-27T17:55:35.325585Z",
     "iopub.status.idle": "2022-06-27T17:55:35.331103Z",
     "shell.execute_reply": "2022-06-27T17:55:35.330325Z"
    },
    "papermill": {
     "duration": 0.017774,
     "end_time": "2022-06-27T17:55:35.333879",
     "exception": false,
     "start_time": "2022-06-27T17:55:35.316105",
     "status": "completed"
    },
    "tags": []
   },
   "outputs": [],
   "source": [
    "# range(5) is a shortcut for [0, 1, 2, 3, 4]\n",
    "list_from_range = list(range(5))  "
   ]
  },
  {
   "cell_type": "markdown",
   "id": "c946c9e3",
   "metadata": {
    "papermill": {
     "duration": 0.007948,
     "end_time": "2022-06-27T17:55:35.353248",
     "exception": false,
     "start_time": "2022-06-27T17:55:35.345300",
     "status": "completed"
    },
    "tags": []
   },
   "source": [
    "`dict`s (dictionaries) contain variables of arbitrary type but instead of integer valued indices, they have `keys`."
   ]
  },
  {
   "cell_type": "code",
   "execution_count": 10,
   "id": "8c6fac52",
   "metadata": {
    "execution": {
     "iopub.execute_input": "2022-06-27T17:55:35.371206Z",
     "iopub.status.busy": "2022-06-27T17:55:35.370816Z",
     "iopub.status.idle": "2022-06-27T17:55:35.378251Z",
     "shell.execute_reply": "2022-06-27T17:55:35.377224Z"
    },
    "papermill": {
     "duration": 0.021114,
     "end_time": "2022-06-27T17:55:35.382740",
     "exception": false,
     "start_time": "2022-06-27T17:55:35.361626",
     "status": "completed"
    },
    "tags": []
   },
   "outputs": [
    {
     "name": "stdout",
     "output_type": "stream",
     "text": [
      "first entry: 1\n",
      "third entry: True\n",
      "keys: dict_keys(['first entry', 'second entry', 'third entry'])\n",
      "values: dict_values([1, 1.2, True])\n",
      "new entry: some text\n"
     ]
    }
   ],
   "source": [
    "some_dict = {\"first entry\": 1, \"second entry\": 1.2, \"third entry\": True}\n",
    "\n",
    "# indexing\n",
    "print(\"first entry:\", some_dict[\"first entry\"])\n",
    "print(\"third entry:\", some_dict[\"third entry\"])\n",
    "\n",
    "# to get the list of keys / values:\n",
    "print(\"keys:\", some_dict.keys())\n",
    "print(\"values:\", some_dict.values())\n",
    "\n",
    "# appending a new key-value pair:\n",
    "some_dict[\"new entry\"] = \"some text\"\n",
    "print(\"new entry:\", some_dict[\"new entry\"])"
   ]
  },
  {
   "cell_type": "markdown",
   "id": "a93d03da",
   "metadata": {
    "papermill": {
     "duration": 0.008154,
     "end_time": "2022-06-27T17:55:35.462147",
     "exception": false,
     "start_time": "2022-06-27T17:55:35.453993",
     "status": "completed"
    },
    "tags": []
   },
   "source": [
    "## loops\n",
    "`loop`s are used to perform a certain block of code several times."
   ]
  },
  {
   "cell_type": "code",
   "execution_count": 11,
   "id": "4a22162b",
   "metadata": {
    "execution": {
     "iopub.execute_input": "2022-06-27T17:55:35.482845Z",
     "iopub.status.busy": "2022-06-27T17:55:35.481911Z",
     "iopub.status.idle": "2022-06-27T17:55:35.491643Z",
     "shell.execute_reply": "2022-06-27T17:55:35.490196Z"
    },
    "papermill": {
     "duration": 0.022932,
     "end_time": "2022-06-27T17:55:35.494368",
     "exception": false,
     "start_time": "2022-06-27T17:55:35.471436",
     "status": "completed"
    },
    "tags": []
   },
   "outputs": [
    {
     "name": "stdout",
     "output_type": "stream",
     "text": [
      "output of the first loop: 1 and -1 and 3 and \n",
      "output of the second loop:\n",
      "index: 0 content: 1\n",
      "index: 1 content: -1\n",
      "index: 2 content: 3\n"
     ]
    }
   ],
   "source": [
    "some_list = [1, -1, 3]\n",
    "some_str = \"\"\n",
    "for i in some_list:  # for every element in some_list\n",
    "    i_str = str(i)  # cast to str\n",
    "    some_str = some_str + i_str + \" and \" # str concatenation\n",
    "print(\"output of the first loop:\", some_str)\n",
    "    \n",
    "# enumerate numerates (0,1,...) every entry in the list\n",
    "print(\"output of the second loop:\")\n",
    "for i, c in enumerate(some_list):\n",
    "    print(\"index:\", i, \"content:\", c)"
   ]
  },
  {
   "cell_type": "markdown",
   "id": "d714353f",
   "metadata": {
    "papermill": {
     "duration": 0.008309,
     "end_time": "2022-06-27T17:55:35.512006",
     "exception": false,
     "start_time": "2022-06-27T17:55:35.503697",
     "status": "completed"
    },
    "tags": []
   },
   "source": [
    "## functions\n",
    "`function`s give names to certain indented blocks of code. like a mathematical function, python functions can map their input to an output. funcitons, i.e. their indented blocks can be reused later on in your code. You can execute (`call`) functions multiple times. note that functions can output (`return`) a list containing multiple values. \n",
    "\n",
    "**don't repeat yourself (dry) principle:**\n",
    "* evade writing the same code in multiple functions\n",
    "* create certain atomic functions that only perform basic operations \n",
    "* code more complex operations by creating functions that call other functions"
   ]
  },
  {
   "cell_type": "code",
   "execution_count": 12,
   "id": "05b78635",
   "metadata": {
    "execution": {
     "iopub.execute_input": "2022-06-27T17:55:35.531273Z",
     "iopub.status.busy": "2022-06-27T17:55:35.530308Z",
     "iopub.status.idle": "2022-06-27T17:55:35.544956Z",
     "shell.execute_reply": "2022-06-27T17:55:35.543485Z"
    },
    "papermill": {
     "duration": 0.027428,
     "end_time": "2022-06-27T17:55:35.547835",
     "exception": false,
     "start_time": "2022-06-27T17:55:35.520407",
     "status": "completed"
    },
    "tags": []
   },
   "outputs": [
    {
     "name": "stdout",
     "output_type": "stream",
     "text": [
      "Hello my name is Milan\n"
     ]
    }
   ],
   "source": [
    "def concat_texts(original_text: str, new_word: str) -> str:\n",
    "    \"\"\"\n",
    "    concatenates a word to a given text\n",
    "    \n",
    "    param: str original_text: a text that we want to concatenate a word to \n",
    "    param: str new_word: a word that we want to concatenate to a text\n",
    "    return str a single string containing the original text and the new word\n",
    "    \"\"\"\n",
    "    if original_text != \"\":\n",
    "        return original_text + \" \" + new_word\n",
    "    else: \n",
    "        return new_word\n",
    "\n",
    "\n",
    "def words_to_text(words: list) -> str:\n",
    "    \"\"\"\n",
    "    concatenates a number of words to a single str\n",
    "    \n",
    "    param: list words: list of words that have to be concatenated\n",
    "    return: str a single string containing all words in the input\n",
    "    \"\"\"\n",
    "    text = \"\"\n",
    "    for word in words:\n",
    "        text = concat_texts(original_text=text, new_word=word)  # function call\n",
    "    return text\n",
    "\n",
    "sentence = words_to_text(words=[\"Hello\", \"my\", \"name\", \"is\", \"Milan\"])  # function call \n",
    "print(sentence)"
   ]
  },
  {
   "cell_type": "markdown",
   "id": "72967864",
   "metadata": {
    "papermill": {
     "duration": 0.00782,
     "end_time": "2022-06-27T17:55:35.563731",
     "exception": false,
     "start_time": "2022-06-27T17:55:35.555911",
     "status": "completed"
    },
    "tags": []
   },
   "source": [
    "# classes\n",
    "`class`es should be used to group our code into certain coherent blocks. \n",
    "classes are entities that can perform certain tasks.\n",
    "take a look at the comments in the code below for further explanations. they are formulated between three quotation marks (`\"\"\"`) and are thus saved in the documentation of the class methods (`function`s of the class)."
   ]
  },
  {
   "cell_type": "code",
   "execution_count": 13,
   "id": "19ce4cfa",
   "metadata": {
    "execution": {
     "iopub.execute_input": "2022-06-27T17:55:35.583073Z",
     "iopub.status.busy": "2022-06-27T17:55:35.582004Z",
     "iopub.status.idle": "2022-06-27T17:55:35.600005Z",
     "shell.execute_reply": "2022-06-27T17:55:35.598850Z"
    },
    "papermill": {
     "duration": 0.030672,
     "end_time": "2022-06-27T17:55:35.602505",
     "exception": false,
     "start_time": "2022-06-27T17:55:35.571833",
     "status": "completed"
    },
    "tags": []
   },
   "outputs": [
    {
     "name": "stdout",
     "output_type": "stream",
     "text": [
      "23\n",
      "12\n",
      "the red vehicle drives\n",
      "<class '__main__.Vehicle'>\n"
     ]
    }
   ],
   "source": [
    "class Vehicle:\n",
    "    def __init__(self, age: int, color: str):\n",
    "        \"\"\"\n",
    "        \"Constructor\" that is called when an object of the class is created.\n",
    "        analogy: \n",
    "        class is a blueprint of a car, \n",
    "        object is a car build according to the blueprint.\n",
    "        \n",
    "        constructor sets the initial properties of the class.\n",
    "        \n",
    "        properties are variables that only exist within a class (within its scope)\n",
    "        \n",
    "        keyword \"self\" refers to the object. self.age is the age of the object. \n",
    "        self is always the first parameter.\n",
    "        \"\"\"\n",
    "        self.age = age\n",
    "        self.color = color\n",
    "        \n",
    "    def get_color(self):\n",
    "        \"\"\"\n",
    "        getters are used to read the properties of the object.\n",
    "        \"\"\"\n",
    "        return self.color\n",
    "    \n",
    "    def get_age(self):\n",
    "        return self.age\n",
    "    \n",
    "    def set_age(self, age: int):\n",
    "        \"\"\"\n",
    "        setters are used to change the properties of an object.\n",
    "        \"\"\"\n",
    "        self.age = age\n",
    "        \n",
    "    def set_color(self, color: str):\n",
    "        self.color = color\n",
    "        \n",
    "    def drive(self):\n",
    "        print(\"the\", self.color, \"vehicle drives\")\n",
    "        \n",
    "vehicle = Vehicle(age=23, color=\"red\")  # create a vehicle object, calls \"Vehicle.__init__()\"\n",
    "print(vehicle.get_age())\n",
    "vehicle.set_age(age=12)\n",
    "print(vehicle.get_age())\n",
    "vehicle.drive()\n",
    "print(type(vehicle))  # get the class of an object"
   ]
  },
  {
   "cell_type": "markdown",
   "id": "63adaffb",
   "metadata": {
    "papermill": {
     "duration": 0.00771,
     "end_time": "2022-06-27T17:55:35.618586",
     "exception": false,
     "start_time": "2022-06-27T17:55:35.610876",
     "status": "completed"
    },
    "tags": []
   },
   "source": [
    "**Polymorphism:**\n",
    "* a single *interface* can have multiple forms (interface: Vehicle, forms: Car, Airplane ...)"
   ]
  },
  {
   "cell_type": "code",
   "execution_count": 14,
   "id": "ee55b330",
   "metadata": {
    "execution": {
     "iopub.execute_input": "2022-06-27T17:55:35.638504Z",
     "iopub.status.busy": "2022-06-27T17:55:35.637421Z",
     "iopub.status.idle": "2022-06-27T17:55:35.664476Z",
     "shell.execute_reply": "2022-06-27T17:55:35.663494Z"
    },
    "papermill": {
     "duration": 0.040338,
     "end_time": "2022-06-27T17:55:35.667553",
     "exception": false,
     "start_time": "2022-06-27T17:55:35.627215",
     "status": "completed"
    },
    "tags": []
   },
   "outputs": [
    {
     "name": "stdout",
     "output_type": "stream",
     "text": [
      "the engines start\n",
      "the airplane fires\n",
      "the engines start\n",
      "the airplane can't fire\n"
     ]
    }
   ],
   "source": [
    "class Airplane(Vehicle):\n",
    "    def __init__(self, age: int, color: str, military: bool):\n",
    "        super().__init__(age=age, color=color)\n",
    "        self.military = military\n",
    "\n",
    "    @staticmethod\n",
    "    def start():\n",
    "        \"\"\"\n",
    "        staticmethods don't depend on the object (properties), thus no \"self\"\n",
    "        \"\"\"  \n",
    "        print(\"the engines start\")\n",
    "\n",
    "    def fire(self):\n",
    "        if self.military:\n",
    "            print(\"the airplane fires\")\n",
    "        else:\n",
    "            print(\"the airplane can't fire\")\n",
    "        \n",
    "military_airplane = Airplane(age=10, color=\"black\", military=True)\n",
    "military_airplane.start()\n",
    "military_airplane.fire()\n",
    "\n",
    "civil_airplane = Airplane(age=6, color=\"white\", military=False)\n",
    "civil_airplane.start()\n",
    "civil_airplane.fire()"
   ]
  },
  {
   "cell_type": "markdown",
   "id": "a2ef915a",
   "metadata": {
    "papermill": {
     "duration": 0.012448,
     "end_time": "2022-06-27T17:55:35.692737",
     "exception": false,
     "start_time": "2022-06-27T17:55:35.680289",
     "status": "completed"
    },
    "tags": []
   },
   "source": [
    "## import\n",
    "we can import functions and classes from `package`s like `time` or `.py`-files that we wrote in the past."
   ]
  },
  {
   "cell_type": "code",
   "execution_count": 18,
   "id": "9909f756",
   "metadata": {
    "execution": {
     "iopub.execute_input": "2022-06-27T17:55:35.720565Z",
     "iopub.status.busy": "2022-06-27T17:55:35.719708Z",
     "iopub.status.idle": "2022-06-27T17:55:35.744922Z",
     "shell.execute_reply": "2022-06-27T17:55:35.743741Z"
    },
    "papermill": {
     "duration": 0.042698,
     "end_time": "2022-06-27T17:55:35.748202",
     "exception": false,
     "start_time": "2022-06-27T17:55:35.705504",
     "status": "completed"
    },
    "tags": []
   },
   "outputs": [
    {
     "name": "stdout",
     "output_type": "stream",
     "text": [
      "execution time: 0.007002592086791992\n"
     ]
    }
   ],
   "source": [
    "import time  # imports classes and functions of the module time\n",
    "\n",
    "start = time.time()  # time() is a function provided in the module time\n",
    "a = 0\n",
    "for i in range(90000):\n",
    "    a = a + i\n",
    "end = time.time()\n",
    "\n",
    "print(\"execution time:\", end - start)"
   ]
  },
  {
   "cell_type": "markdown",
   "id": "af1d1ebd",
   "metadata": {
    "papermill": {
     "duration": 0.00791,
     "end_time": "2022-06-27T17:55:35.768238",
     "exception": false,
     "start_time": "2022-06-27T17:55:35.760328",
     "status": "completed"
    },
    "tags": []
   },
   "source": [
    "# Exercises"
   ]
  },
  {
   "cell_type": "markdown",
   "id": "0ce675c5",
   "metadata": {
    "papermill": {
     "duration": 0.008196,
     "end_time": "2022-06-27T17:55:35.784638",
     "exception": false,
     "start_time": "2022-06-27T17:55:35.776442",
     "status": "completed"
    },
    "tags": []
   },
   "source": [
    "1. Create a list containing the values 0,1,...,99. Save the slice 75, 76, ..., 80 in a new list. Save the slice 0, 5, ..., 50 in a new list.\n",
    "2. Create the class `Dog`. Every dog has its own `barking_sound`. The `Dog` class has a method `Dog.bark()` that prints out the `barking sound`. Moreover, `Dog` has a `patiance` that represents the amount of hours the dog can stay home alone. The Method `Dog.wait()` implements a loop that prints \"the dog waits for 1, 2, ... `patience`\" hours, if the dogs patience is bigger than 0. Else it prints \"the dog can't wait\".\n",
    "3. the `Bulldog` class inherits `Dog`, and has a method `Bulldog.bite()` that prints out \"the bulldog bites\". instanciate a `Bulldog` object and call all of its methods once. Code all respective constructors, getters, and setters.\n",
    "4. the `Person` class can have multiple dogs. instanciate a `Person` object that has a `Bulldog` object, and a `Dog` object. Hint: `Person` has a property of type `list` that contains dogs."
   ]
  },
  {
   "cell_type": "code",
   "execution_count": null,
   "id": "b32d9ec6",
   "metadata": {},
   "outputs": [],
   "source": []
  }
 ],
 "metadata": {
  "kernelspec": {
   "display_name": "Python 3 (ipykernel)",
   "language": "python",
   "name": "python3"
  },
  "language_info": {
   "codemirror_mode": {
    "name": "ipython",
    "version": 3
   },
   "file_extension": ".py",
   "mimetype": "text/x-python",
   "name": "python",
   "nbconvert_exporter": "python",
   "pygments_lexer": "ipython3",
   "version": "3.9.13"
  },
  "papermill": {
   "default_parameters": {},
   "duration": 11.701334,
   "end_time": "2022-06-27T17:55:36.565953",
   "environment_variables": {},
   "exception": null,
   "input_path": "__notebook__.ipynb",
   "output_path": "__notebook__.ipynb",
   "parameters": {},
   "start_time": "2022-06-27T17:55:24.864619",
   "version": "2.3.4"
  }
 },
 "nbformat": 4,
 "nbformat_minor": 5
}
